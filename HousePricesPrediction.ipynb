{
 "cells": [
  {
   "cell_type": "code",
   "execution_count": 24,
   "metadata": {},
   "outputs": [],
   "source": [
    "# import required libraries\n",
    "import numpy as np\n",
    "import pandas as pd\n",
    "import matplotlib.pyplot as plt\n",
    "import seaborn as sns\n",
    "from sklearn import preprocessing\n",
    "from sklearn import linear_model\n",
    "from sklearn.ensemble import RandomForestRegressor\n",
    "from sklearn.svm import SVR"
   ]
  },
  {
   "cell_type": "code",
   "execution_count": 25,
   "metadata": {},
   "outputs": [],
   "source": [
    "pd.set_option('display.max_rows', 500)\n",
    "pd.set_option('display.max_columns', 500)"
   ]
  },
  {
   "cell_type": "code",
   "execution_count": 26,
   "metadata": {},
   "outputs": [],
   "source": [
    "# import data\n",
    "train = pd.read_csv('data/train.csv')\n",
    "test = pd.read_csv('data/test.csv')\n",
    "Ids = test.Id.values\n",
    "train.drop(train[(train['OverallQual']<5) & (train['SalePrice']>200000)].index, inplace=True)\n",
    "train.drop(train[(train['GrLivArea']>4000) & (train['SalePrice']<300000)].index, inplace=True)\n",
    "train.reset_index(drop=True, inplace=True)\n",
    "\n",
    "# combine common features for processing together\n",
    "combined = train.drop('SalePrice', axis = 1).append(test)\n",
    "combined.drop('Id', axis = 1, inplace = True)"
   ]
  },
  {
   "cell_type": "code",
   "execution_count": 27,
   "metadata": {},
   "outputs": [],
   "source": [
    "lessMissing = combined.isnull().sum() * 100 / combined.shape[0] < 15\n",
    "combined = combined.loc[:, lessMissing]"
   ]
  },
  {
   "cell_type": "code",
   "execution_count": 28,
   "metadata": {},
   "outputs": [],
   "source": [
    "combined['GarageCars'].fillna(combined['GarageCars'].mode().values[0], inplace = True)\n",
    "combined['MSZoning'].fillna(combined['MSZoning'].mode().values[0], inplace = True)\n",
    "combined['Utilities'].fillna(combined['Utilities'].mode().values[0], inplace = True)\n",
    "combined['BsmtFinSF2'].fillna(combined['BsmtFinSF2'].mean(), inplace = True)\n",
    "combined['TotalBsmtSF'].fillna(combined['TotalBsmtSF'].mean(), inplace = True)\n",
    "combined['BsmtHalfBath'].fillna(combined['BsmtHalfBath'].mode().values[0], inplace = True)\n",
    "combined['GarageArea'].fillna(np.floor(combined['GarageArea'].mean()), inplace = True)\n",
    "combined['SaleType'].fillna(combined['SaleType'].mode()[0], inplace = True)\n",
    "combined['Functional'].fillna(combined['Functional'].mode()[0], inplace = True)\n",
    "combined['BsmtFinSF1'].fillna(combined['BsmtFinSF1'].mean(), inplace = True)\n",
    "combined['BsmtUnfSF'].fillna(combined['BsmtUnfSF'].mean(), inplace = True)\n",
    "combined['Electrical'].fillna(combined['Electrical'].mode()[0], inplace = True)\n",
    "combined['KitchenQual'].fillna('TA', inplace = True)\n",
    "combined['GarageCond'].fillna(combined['GarageCond'].mode()[0], inplace = True)\n",
    "combined['GarageQual'].fillna(combined['GarageQual'].mode()[0], inplace = True)\n",
    "combined['GarageFinish'].fillna(combined['GarageFinish'].mode()[0], inplace = True)\n",
    "combined['GarageType'].fillna(combined['GarageType'].mode()[0], inplace = True)\n",
    "combined['BsmtFullBath'].fillna(1.0, inplace = True)\n",
    "combined['BsmtFinType2'].fillna(combined['BsmtFinType2'].mode()[0], inplace = True)\n",
    "combined['GarageYrBlt'].fillna(combined['GarageYrBlt'].mode()[0], inplace = True)\n",
    "combined['MasVnrType'].fillna(combined['MasVnrType'].mode()[0], inplace = True)\n",
    "combined['MasVnrArea'].fillna(combined['MasVnrArea'].mean(), inplace = True)\n",
    "combined['Exterior1st'].fillna(combined['Exterior1st'].mode()[0], inplace = True)\n",
    "combined['Exterior2nd'].fillna(combined['Exterior2nd'].mode()[0], inplace = True)\n",
    "combined['BsmtCond'].fillna(combined['BsmtCond'].mode()[0], inplace = True)\n",
    "combined['BsmtExposure'].fillna(combined['BsmtExposure'].mode()[0], inplace = True)\n",
    "combined['BsmtFinType1'].fillna('GLQ', inplace = True)\n",
    "combined['BsmtQual'].fillna('Gd', inplace = True)"
   ]
  },
  {
   "cell_type": "code",
   "execution_count": 29,
   "metadata": {},
   "outputs": [],
   "source": [
    "# convert some columns to categorical\n",
    "nonCategorical = ['LotArea', 'MasVnrArea', 'BsmtFinSF1', 'BsmtFinSF2', 'BsmtUnfSF', 'TotalBsmtSF', '1stFlrSF', '2ndFlrSF', 'GrLivArea', 'GarageArea', 'WoodDeckSF', 'OpenPorchSF', 'EnclosedPorch', 'ScreenPorch']\n",
    "minMaxScaler = preprocessing.MinMaxScaler()\n",
    "le = preprocessing.LabelEncoder()\n",
    "for column in combined.columns:\n",
    "    if column in nonCategorical:\n",
    "        combined[column] = combined[column].astype('float64')\n",
    "        combined[column] = minMaxScaler.fit_transform(combined[[column]])\n",
    "    else:\n",
    "        combined[column] = combined[column].astype('category')\n",
    "        combined[column] = le.fit_transform(combined[column])"
   ]
  },
  {
   "cell_type": "code",
   "execution_count": 30,
   "metadata": {},
   "outputs": [],
   "source": [
    "# split combined into train and test again\n",
    "train['SalePrice'] = train['SalePrice'].astype('float')\n",
    "train = pd.merge(combined.iloc[0:train.shape[0], :], train.loc[:, ['SalePrice']], on = train.index).drop('key_0', axis = 1)\n",
    "test = combined.iloc[train.shape[0]:combined.shape[0], :]"
   ]
  },
  {
   "cell_type": "code",
   "execution_count": 34,
   "metadata": {},
   "outputs": [],
   "source": [
    "significant = ['LotArea', 'OverallQual', 'YearBuilt', 'BsmtQual', 'BsmtFinSF1', 'BsmtFinSF2', 'BsmtUnfSF', '1stFlrSF', '2ndFlrSF', 'KitchenQual' ,'GarageType', 'ScreenPorch']"
   ]
  },
  {
   "cell_type": "code",
   "execution_count": 37,
   "metadata": {},
   "outputs": [],
   "source": [
    "# SVR\n",
    "svr = SVR(kernel='poly', C=1e3, degree=2)\n",
    "predictions = svr.fit(train.loc[:, train.columns != 'SalePrice'], train['SalePrice']).predict(test)"
   ]
  },
  {
   "cell_type": "code",
   "execution_count": 38,
   "metadata": {},
   "outputs": [],
   "source": [
    "submission = pd.DataFrame({'Id': Ids, 'SalePrice': predictions})\n",
    "submission.to_csv('submission.csv', index = False)"
   ]
  },
  {
   "cell_type": "markdown",
   "metadata": {},
   "source": [
    "<br>"
   ]
  },
  {
   "cell_type": "markdown",
   "metadata": {},
   "source": [
    "## K-NN from scratch"
   ]
  },
  {
   "cell_type": "code",
   "execution_count": null,
   "metadata": {},
   "outputs": [],
   "source": []
  },
  {
   "cell_type": "code",
   "execution_count": null,
   "metadata": {},
   "outputs": [],
   "source": []
  }
 ],
 "metadata": {
  "kernelspec": {
   "display_name": "Python 3",
   "language": "python",
   "name": "python3"
  },
  "language_info": {
   "codemirror_mode": {
    "name": "ipython",
    "version": 3
   },
   "file_extension": ".py",
   "mimetype": "text/x-python",
   "name": "python",
   "nbconvert_exporter": "python",
   "pygments_lexer": "ipython3",
   "version": "3.6.5"
  }
 },
 "nbformat": 4,
 "nbformat_minor": 2
}
