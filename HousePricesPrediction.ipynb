{
 "cells": [
  {
   "cell_type": "code",
   "execution_count": 1,
   "metadata": {},
   "outputs": [],
   "source": [
    "# import required libraries\n",
    "import numpy as np\n",
    "import pandas as pd\n",
    "import matplotlib.pyplot as plt\n",
    "import seaborn as sns\n",
    "from sklearn import preprocessing\n",
    "from sklearn import linear_model"
   ]
  },
  {
   "cell_type": "code",
   "execution_count": 2,
   "metadata": {},
   "outputs": [],
   "source": [
    "pd.set_option('display.max_rows', 500)\n",
    "pd.set_option('display.max_columns', 500)"
   ]
  },
  {
   "cell_type": "code",
   "execution_count": 3,
   "metadata": {},
   "outputs": [],
   "source": [
    "# import data\n",
    "train = pd.read_csv('data/train.csv')\n",
    "test = pd.read_csv('data/test.csv')\n",
    "\n",
    "# combine common features for processing together\n",
    "combined = train.drop('SalePrice', axis = 1).append(test)"
   ]
  },
  {
   "cell_type": "code",
   "execution_count": 4,
   "metadata": {},
   "outputs": [
    {
     "data": {
      "text/plain": [
       "Id                0.000000\n",
       "MSSubClass        0.000000\n",
       "MSZoning          0.137033\n",
       "LotFrontage      16.649538\n",
       "LotArea           0.000000\n",
       "Street            0.000000\n",
       "Alley            93.216855\n",
       "LotShape          0.000000\n",
       "LandContour       0.000000\n",
       "Utilities         0.068517\n",
       "LotConfig         0.000000\n",
       "LandSlope         0.000000\n",
       "Neighborhood      0.000000\n",
       "Condition1        0.000000\n",
       "Condition2        0.000000\n",
       "BldgType          0.000000\n",
       "HouseStyle        0.000000\n",
       "OverallQual       0.000000\n",
       "OverallCond       0.000000\n",
       "YearBuilt         0.000000\n",
       "YearRemodAdd      0.000000\n",
       "RoofStyle         0.000000\n",
       "RoofMatl          0.000000\n",
       "Exterior1st       0.034258\n",
       "Exterior2nd       0.034258\n",
       "MasVnrType        0.822199\n",
       "MasVnrArea        0.787941\n",
       "ExterQual         0.000000\n",
       "ExterCond         0.000000\n",
       "Foundation        0.000000\n",
       "BsmtQual          2.774923\n",
       "BsmtCond          2.809181\n",
       "BsmtExposure      2.809181\n",
       "BsmtFinType1      2.706406\n",
       "BsmtFinSF1        0.034258\n",
       "BsmtFinType2      2.740665\n",
       "BsmtFinSF2        0.034258\n",
       "BsmtUnfSF         0.034258\n",
       "TotalBsmtSF       0.034258\n",
       "Heating           0.000000\n",
       "HeatingQC         0.000000\n",
       "CentralAir        0.000000\n",
       "Electrical        0.034258\n",
       "1stFlrSF          0.000000\n",
       "2ndFlrSF          0.000000\n",
       "LowQualFinSF      0.000000\n",
       "GrLivArea         0.000000\n",
       "BsmtFullBath      0.068517\n",
       "BsmtHalfBath      0.068517\n",
       "FullBath          0.000000\n",
       "HalfBath          0.000000\n",
       "BedroomAbvGr      0.000000\n",
       "KitchenAbvGr      0.000000\n",
       "KitchenQual       0.034258\n",
       "TotRmsAbvGrd      0.000000\n",
       "Functional        0.068517\n",
       "Fireplaces        0.000000\n",
       "FireplaceQu      48.646797\n",
       "GarageType        5.378554\n",
       "GarageYrBlt       5.447071\n",
       "GarageFinish      5.447071\n",
       "GarageCars        0.034258\n",
       "GarageArea        0.034258\n",
       "GarageQual        5.447071\n",
       "GarageCond        5.447071\n",
       "PavedDrive        0.000000\n",
       "WoodDeckSF        0.000000\n",
       "OpenPorchSF       0.000000\n",
       "EnclosedPorch     0.000000\n",
       "3SsnPorch         0.000000\n",
       "ScreenPorch       0.000000\n",
       "PoolArea          0.000000\n",
       "PoolQC           99.657417\n",
       "Fence            80.438506\n",
       "MiscFeature      96.402878\n",
       "MiscVal           0.000000\n",
       "MoSold            0.000000\n",
       "YrSold            0.000000\n",
       "SaleType          0.034258\n",
       "SaleCondition     0.000000\n",
       "dtype: float64"
      ]
     },
     "execution_count": 4,
     "metadata": {},
     "output_type": "execute_result"
    }
   ],
   "source": [
    "# check for percentage of missing values\n",
    "combined.isnull().sum() * 100 / combined.shape[0]"
   ]
  },
  {
   "cell_type": "code",
   "execution_count": 5,
   "metadata": {},
   "outputs": [],
   "source": [
    "lessMissing = combined.isnull().sum() * 100 / combined.shape[0] < 15"
   ]
  },
  {
   "cell_type": "code",
   "execution_count": 6,
   "metadata": {},
   "outputs": [],
   "source": [
    "combined = combined.loc[:, lessMissing]"
   ]
  },
  {
   "cell_type": "code",
   "execution_count": 7,
   "metadata": {},
   "outputs": [
    {
     "data": {
      "text/plain": [
       "Id                 0\n",
       "MSSubClass         0\n",
       "MSZoning           4\n",
       "LotArea            0\n",
       "Street             0\n",
       "LotShape           0\n",
       "LandContour        0\n",
       "Utilities          2\n",
       "LotConfig          0\n",
       "LandSlope          0\n",
       "Neighborhood       0\n",
       "Condition1         0\n",
       "Condition2         0\n",
       "BldgType           0\n",
       "HouseStyle         0\n",
       "OverallQual        0\n",
       "OverallCond        0\n",
       "YearBuilt          0\n",
       "YearRemodAdd       0\n",
       "RoofStyle          0\n",
       "RoofMatl           0\n",
       "Exterior1st        1\n",
       "Exterior2nd        1\n",
       "MasVnrType        24\n",
       "MasVnrArea        23\n",
       "ExterQual          0\n",
       "ExterCond          0\n",
       "Foundation         0\n",
       "BsmtQual          81\n",
       "BsmtCond          82\n",
       "BsmtExposure      82\n",
       "BsmtFinType1      79\n",
       "BsmtFinSF1         1\n",
       "BsmtFinType2      80\n",
       "BsmtFinSF2         1\n",
       "BsmtUnfSF          1\n",
       "TotalBsmtSF        1\n",
       "Heating            0\n",
       "HeatingQC          0\n",
       "CentralAir         0\n",
       "Electrical         1\n",
       "1stFlrSF           0\n",
       "2ndFlrSF           0\n",
       "LowQualFinSF       0\n",
       "GrLivArea          0\n",
       "BsmtFullBath       2\n",
       "BsmtHalfBath       2\n",
       "FullBath           0\n",
       "HalfBath           0\n",
       "BedroomAbvGr       0\n",
       "KitchenAbvGr       0\n",
       "KitchenQual        1\n",
       "TotRmsAbvGrd       0\n",
       "Functional         2\n",
       "Fireplaces         0\n",
       "GarageType       157\n",
       "GarageYrBlt      159\n",
       "GarageFinish     159\n",
       "GarageCars         1\n",
       "GarageArea         1\n",
       "GarageQual       159\n",
       "GarageCond       159\n",
       "PavedDrive         0\n",
       "WoodDeckSF         0\n",
       "OpenPorchSF        0\n",
       "EnclosedPorch      0\n",
       "3SsnPorch          0\n",
       "ScreenPorch        0\n",
       "PoolArea           0\n",
       "MiscVal            0\n",
       "MoSold             0\n",
       "YrSold             0\n",
       "SaleType           1\n",
       "SaleCondition      0\n",
       "dtype: int64"
      ]
     },
     "execution_count": 7,
     "metadata": {},
     "output_type": "execute_result"
    }
   ],
   "source": [
    "combined.isnull().sum()"
   ]
  },
  {
   "cell_type": "code",
   "execution_count": 8,
   "metadata": {},
   "outputs": [],
   "source": [
    "combined['GarageCars'].fillna(combined['GarageCars'].mode().values[0], inplace = True)\n",
    "combined['MSZoning'].fillna(combined['MSZoning'].mode().values[0], inplace = True)\n",
    "combined['Utilities'].fillna(combined['Utilities'].mode().values[0], inplace = True)"
   ]
  },
  {
   "cell_type": "code",
   "execution_count": 9,
   "metadata": {},
   "outputs": [
    {
     "data": {
      "text/plain": [
       "OverallQual  KitchenQual\n",
       "1            Fa               3\n",
       "             TA               1\n",
       "2            Fa               3\n",
       "             Gd               1\n",
       "             TA               9\n",
       "3            Fa               7\n",
       "             Gd               3\n",
       "             TA              30\n",
       "4            Fa              23\n",
       "             Gd              21\n",
       "             TA             182\n",
       "5            Ex              15\n",
       "             Fa              21\n",
       "             Gd             126\n",
       "             TA             662\n",
       "6            Ex               7\n",
       "             Fa              12\n",
       "             Gd             244\n",
       "             TA             468\n",
       "7            Ex              15\n",
       "             Fa               1\n",
       "             Gd             455\n",
       "             TA             129\n",
       "8            Ex              52\n",
       "             Gd             279\n",
       "             TA              11\n",
       "9            Ex              88\n",
       "             Gd              19\n",
       "10           Ex              28\n",
       "             Gd               3\n",
       "dtype: int64"
      ]
     },
     "execution_count": 9,
     "metadata": {},
     "output_type": "execute_result"
    }
   ],
   "source": [
    "combined.groupby(['OverallQual', 'KitchenQual']).size()"
   ]
  },
  {
   "cell_type": "code",
   "execution_count": 10,
   "metadata": {},
   "outputs": [
    {
     "data": {
      "text/plain": [
       "OverallQual      0\n",
       "OverallCond      0\n",
       "MSSubClass       0\n",
       "BsmtFinSF2       1\n",
       "TotalBsmtSF      1\n",
       "1stFlrSF         0\n",
       "GrLivArea        0\n",
       "BsmtHalfBath     2\n",
       "FullBath         0\n",
       "KitchenAbvGr     0\n",
       "GarageArea       1\n",
       "EnclosedPorch    0\n",
       "dtype: int64"
      ]
     },
     "execution_count": 10,
     "metadata": {},
     "output_type": "execute_result"
    }
   ],
   "source": [
    "significant = ['OverallQual', 'OverallCond', 'MSSubClass', 'BsmtFinSF2', 'TotalBsmtSF', '1stFlrSF', 'GrLivArea', 'BsmtHalfBath', 'FullBath', 'KitchenAbvGr', 'GarageArea', 'EnclosedPorch']\n",
    "combined = combined.loc[:, significant]\n",
    "combined.isnull().sum()\n"
   ]
  },
  {
   "cell_type": "code",
   "execution_count": 11,
   "metadata": {},
   "outputs": [],
   "source": [
    "combined['BsmtFinSF2'].fillna(combined['BsmtFinSF2'].mean(), inplace = True)\n",
    "combined['TotalBsmtSF'].fillna(combined['TotalBsmtSF'].mean(), inplace = True)\n",
    "combined['BsmtHalfBath'].fillna(combined['BsmtHalfBath'].mode().values[0], inplace = True)\n",
    "combined['GarageArea'].fillna(np.floor(combined['GarageArea'].mean()), inplace = True)"
   ]
  },
  {
   "cell_type": "code",
   "execution_count": 12,
   "metadata": {},
   "outputs": [
    {
     "data": {
      "text/plain": [
       "OverallQual        int64\n",
       "OverallCond        int64\n",
       "MSSubClass         int64\n",
       "BsmtFinSF2       float64\n",
       "TotalBsmtSF      float64\n",
       "1stFlrSF           int64\n",
       "GrLivArea          int64\n",
       "BsmtHalfBath     float64\n",
       "FullBath           int64\n",
       "KitchenAbvGr       int64\n",
       "GarageArea       float64\n",
       "EnclosedPorch      int64\n",
       "dtype: object"
      ]
     },
     "execution_count": 12,
     "metadata": {},
     "output_type": "execute_result"
    }
   ],
   "source": [
    "combined.dtypes"
   ]
  },
  {
   "cell_type": "code",
   "execution_count": 13,
   "metadata": {},
   "outputs": [],
   "source": [
    "# convert some columns to categorical\n",
    "categorical = ['BsmtHalfBath', 'OverallQual', 'OverallCond', 'MSSubClass', 'FullBath', 'KitchenAbvGr']\n",
    "for column in categorical:\n",
    "    combined[column] = combined[column].astype('category')"
   ]
  },
  {
   "cell_type": "code",
   "execution_count": 14,
   "metadata": {},
   "outputs": [],
   "source": [
    "# normalise\n",
    "minMaxScaler = preprocessing.MinMaxScaler()\n",
    "combined.loc[:, ['BsmtFinSF2', 'TotalBsmtSF', '1stFlrSF', 'GrLivArea', 'GarageArea', 'EnclosedPorch']] = minMaxScaler.fit_transform(combined.loc[:, ['BsmtFinSF2', 'TotalBsmtSF', '1stFlrSF', 'GrLivArea', 'GarageArea', 'EnclosedPorch']])"
   ]
  },
  {
   "cell_type": "code",
   "execution_count": 15,
   "metadata": {},
   "outputs": [],
   "source": [
    "# label encoding for categorical columns\n",
    "le = preprocessing.LabelEncoder()\n",
    "combined.loc[:, categorical] = combined.loc[:, categorical].apply(lambda x: le.fit_transform(x))"
   ]
  },
  {
   "cell_type": "code",
   "execution_count": 16,
   "metadata": {},
   "outputs": [
    {
     "data": {
      "text/html": [
       "<div>\n",
       "<style scoped>\n",
       "    .dataframe tbody tr th:only-of-type {\n",
       "        vertical-align: middle;\n",
       "    }\n",
       "\n",
       "    .dataframe tbody tr th {\n",
       "        vertical-align: top;\n",
       "    }\n",
       "\n",
       "    .dataframe thead th {\n",
       "        text-align: right;\n",
       "    }\n",
       "</style>\n",
       "<table border=\"1\" class=\"dataframe\">\n",
       "  <thead>\n",
       "    <tr style=\"text-align: right;\">\n",
       "      <th></th>\n",
       "      <th>OverallQual</th>\n",
       "      <th>OverallCond</th>\n",
       "      <th>MSSubClass</th>\n",
       "      <th>BsmtFinSF2</th>\n",
       "      <th>TotalBsmtSF</th>\n",
       "      <th>1stFlrSF</th>\n",
       "      <th>GrLivArea</th>\n",
       "      <th>BsmtHalfBath</th>\n",
       "      <th>FullBath</th>\n",
       "      <th>KitchenAbvGr</th>\n",
       "      <th>GarageArea</th>\n",
       "      <th>EnclosedPorch</th>\n",
       "    </tr>\n",
       "  </thead>\n",
       "  <tbody>\n",
       "    <tr>\n",
       "      <th>0</th>\n",
       "      <td>6</td>\n",
       "      <td>4</td>\n",
       "      <td>5</td>\n",
       "      <td>0.00000</td>\n",
       "      <td>0.140098</td>\n",
       "      <td>0.109641</td>\n",
       "      <td>0.259231</td>\n",
       "      <td>0</td>\n",
       "      <td>2</td>\n",
       "      <td>1</td>\n",
       "      <td>0.368280</td>\n",
       "      <td>0.000000</td>\n",
       "    </tr>\n",
       "    <tr>\n",
       "      <th>1</th>\n",
       "      <td>5</td>\n",
       "      <td>7</td>\n",
       "      <td>0</td>\n",
       "      <td>0.00000</td>\n",
       "      <td>0.206547</td>\n",
       "      <td>0.194917</td>\n",
       "      <td>0.174830</td>\n",
       "      <td>1</td>\n",
       "      <td>2</td>\n",
       "      <td>1</td>\n",
       "      <td>0.309140</td>\n",
       "      <td>0.000000</td>\n",
       "    </tr>\n",
       "    <tr>\n",
       "      <th>2</th>\n",
       "      <td>6</td>\n",
       "      <td>4</td>\n",
       "      <td>5</td>\n",
       "      <td>0.00000</td>\n",
       "      <td>0.150573</td>\n",
       "      <td>0.123083</td>\n",
       "      <td>0.273549</td>\n",
       "      <td>0</td>\n",
       "      <td>2</td>\n",
       "      <td>1</td>\n",
       "      <td>0.408602</td>\n",
       "      <td>0.000000</td>\n",
       "    </tr>\n",
       "    <tr>\n",
       "      <th>3</th>\n",
       "      <td>6</td>\n",
       "      <td>4</td>\n",
       "      <td>6</td>\n",
       "      <td>0.00000</td>\n",
       "      <td>0.123732</td>\n",
       "      <td>0.131695</td>\n",
       "      <td>0.260550</td>\n",
       "      <td>0</td>\n",
       "      <td>1</td>\n",
       "      <td>1</td>\n",
       "      <td>0.431452</td>\n",
       "      <td>0.268775</td>\n",
       "    </tr>\n",
       "    <tr>\n",
       "      <th>4</th>\n",
       "      <td>7</td>\n",
       "      <td>4</td>\n",
       "      <td>5</td>\n",
       "      <td>0.00000</td>\n",
       "      <td>0.187398</td>\n",
       "      <td>0.170342</td>\n",
       "      <td>0.351168</td>\n",
       "      <td>0</td>\n",
       "      <td>2</td>\n",
       "      <td>1</td>\n",
       "      <td>0.561828</td>\n",
       "      <td>0.000000</td>\n",
       "    </tr>\n",
       "    <tr>\n",
       "      <th>5</th>\n",
       "      <td>4</td>\n",
       "      <td>4</td>\n",
       "      <td>4</td>\n",
       "      <td>0.00000</td>\n",
       "      <td>0.130278</td>\n",
       "      <td>0.097038</td>\n",
       "      <td>0.193670</td>\n",
       "      <td>0</td>\n",
       "      <td>1</td>\n",
       "      <td>1</td>\n",
       "      <td>0.322581</td>\n",
       "      <td>0.000000</td>\n",
       "    </tr>\n",
       "    <tr>\n",
       "      <th>6</th>\n",
       "      <td>7</td>\n",
       "      <td>4</td>\n",
       "      <td>0</td>\n",
       "      <td>0.00000</td>\n",
       "      <td>0.275941</td>\n",
       "      <td>0.285654</td>\n",
       "      <td>0.256217</td>\n",
       "      <td>0</td>\n",
       "      <td>2</td>\n",
       "      <td>1</td>\n",
       "      <td>0.427419</td>\n",
       "      <td>0.000000</td>\n",
       "    </tr>\n",
       "    <tr>\n",
       "      <th>7</th>\n",
       "      <td>6</td>\n",
       "      <td>5</td>\n",
       "      <td>5</td>\n",
       "      <td>0.02097</td>\n",
       "      <td>0.181178</td>\n",
       "      <td>0.162361</td>\n",
       "      <td>0.330821</td>\n",
       "      <td>0</td>\n",
       "      <td>2</td>\n",
       "      <td>1</td>\n",
       "      <td>0.325269</td>\n",
       "      <td>0.225296</td>\n",
       "    </tr>\n",
       "    <tr>\n",
       "      <th>8</th>\n",
       "      <td>6</td>\n",
       "      <td>4</td>\n",
       "      <td>4</td>\n",
       "      <td>0.00000</td>\n",
       "      <td>0.155810</td>\n",
       "      <td>0.144507</td>\n",
       "      <td>0.271289</td>\n",
       "      <td>0</td>\n",
       "      <td>2</td>\n",
       "      <td>2</td>\n",
       "      <td>0.314516</td>\n",
       "      <td>0.202569</td>\n",
       "    </tr>\n",
       "    <tr>\n",
       "      <th>9</th>\n",
       "      <td>4</td>\n",
       "      <td>5</td>\n",
       "      <td>15</td>\n",
       "      <td>0.00000</td>\n",
       "      <td>0.162193</td>\n",
       "      <td>0.156060</td>\n",
       "      <td>0.139977</td>\n",
       "      <td>0</td>\n",
       "      <td>1</td>\n",
       "      <td>2</td>\n",
       "      <td>0.137769</td>\n",
       "      <td>0.000000</td>\n",
       "    </tr>\n",
       "  </tbody>\n",
       "</table>\n",
       "</div>"
      ],
      "text/plain": [
       "   OverallQual  OverallCond  MSSubClass  BsmtFinSF2  TotalBsmtSF  1stFlrSF  \\\n",
       "0            6            4           5     0.00000     0.140098  0.109641   \n",
       "1            5            7           0     0.00000     0.206547  0.194917   \n",
       "2            6            4           5     0.00000     0.150573  0.123083   \n",
       "3            6            4           6     0.00000     0.123732  0.131695   \n",
       "4            7            4           5     0.00000     0.187398  0.170342   \n",
       "5            4            4           4     0.00000     0.130278  0.097038   \n",
       "6            7            4           0     0.00000     0.275941  0.285654   \n",
       "7            6            5           5     0.02097     0.181178  0.162361   \n",
       "8            6            4           4     0.00000     0.155810  0.144507   \n",
       "9            4            5          15     0.00000     0.162193  0.156060   \n",
       "\n",
       "   GrLivArea  BsmtHalfBath  FullBath  KitchenAbvGr  GarageArea  EnclosedPorch  \n",
       "0   0.259231             0         2             1    0.368280       0.000000  \n",
       "1   0.174830             1         2             1    0.309140       0.000000  \n",
       "2   0.273549             0         2             1    0.408602       0.000000  \n",
       "3   0.260550             0         1             1    0.431452       0.268775  \n",
       "4   0.351168             0         2             1    0.561828       0.000000  \n",
       "5   0.193670             0         1             1    0.322581       0.000000  \n",
       "6   0.256217             0         2             1    0.427419       0.000000  \n",
       "7   0.330821             0         2             1    0.325269       0.225296  \n",
       "8   0.271289             0         2             2    0.314516       0.202569  \n",
       "9   0.139977             0         1             2    0.137769       0.000000  "
      ]
     },
     "execution_count": 16,
     "metadata": {},
     "output_type": "execute_result"
    }
   ],
   "source": [
    "combined.head(10)"
   ]
  },
  {
   "cell_type": "code",
   "execution_count": 17,
   "metadata": {},
   "outputs": [],
   "source": [
    "# split combined into train and test again\n",
    "train['SalePrice'] = train['SalePrice'].astype('float')\n",
    "train = pd.merge(combined.iloc[0:train.shape[0], :], train.loc[:, ['SalePrice']], on = train.index).drop('key_0', axis = 1)\n",
    "test = combined.iloc[train.shape[0]:combined.shape[0], :]"
   ]
  },
  {
   "cell_type": "code",
   "execution_count": 18,
   "metadata": {
    "scrolled": true
   },
   "outputs": [],
   "source": [
    "# fit linear regression\n",
    "lm = linear_model.LinearRegression()\n",
    "lm.fit(train.iloc[:, 0:train.shape[1]-1], train['SalePrice'])\n",
    "predictions = lm.predict(test)"
   ]
  },
  {
   "cell_type": "code",
   "execution_count": null,
   "metadata": {},
   "outputs": [],
   "source": [
    "submission = pd.DataFrame({'Id': test.Id.values, 'SalePrice': predictions})\n",
    "submission.to_csv('submission.csv', index = False)"
   ]
  },
  {
   "cell_type": "code",
   "execution_count": null,
   "metadata": {},
   "outputs": [],
   "source": []
  },
  {
   "cell_type": "code",
   "execution_count": null,
   "metadata": {},
   "outputs": [],
   "source": []
  },
  {
   "cell_type": "code",
   "execution_count": null,
   "metadata": {},
   "outputs": [],
   "source": []
  }
 ],
 "metadata": {
  "kernelspec": {
   "display_name": "Python 3",
   "language": "python",
   "name": "python3"
  },
  "language_info": {
   "codemirror_mode": {
    "name": "ipython",
    "version": 3
   },
   "file_extension": ".py",
   "mimetype": "text/x-python",
   "name": "python",
   "nbconvert_exporter": "python",
   "pygments_lexer": "ipython3",
   "version": "3.6.5"
  }
 },
 "nbformat": 4,
 "nbformat_minor": 2
}
